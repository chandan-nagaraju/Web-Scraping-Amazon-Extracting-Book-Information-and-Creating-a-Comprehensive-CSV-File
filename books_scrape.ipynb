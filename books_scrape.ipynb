{
 "cells": [
  {
   "attachments": {},
   "cell_type": "markdown",
   "metadata": {},
   "source": [
    "### web-scrapping to get a data on best selling books and different books genres using Requests and beautifulSoup\n"
   ]
  },
  {
   "attachments": {},
   "cell_type": "markdown",
   "metadata": {},
   "source": [
    "step 1: install modules required to to scrape the data and save it into csv files.\n",
    "\n",
    "note: modules required are listed in requirements.text"
   ]
  },
  {
   "cell_type": "code",
   "execution_count": 354,
   "metadata": {},
   "outputs": [],
   "source": [
    "!pip install -r requirements.txt  --quiet"
   ]
  },
  {
   "cell_type": "code",
   "execution_count": 355,
   "metadata": {},
   "outputs": [],
   "source": [
    "import requests\n",
    "from bs4 import BeautifulSoup\n",
    "import pandas as pd"
   ]
  },
  {
   "cell_type": "code",
   "execution_count": 356,
   "metadata": {},
   "outputs": [],
   "source": [
    "url=\"https://www.amazon.in/gp/bestsellers/books/\""
   ]
  },
  {
   "attachments": {},
   "cell_type": "markdown",
   "metadata": {},
   "source": [
    "### using this url to retrieve data to get genre details and different genre urls "
   ]
  },
  {
   "cell_type": "code",
   "execution_count": 357,
   "metadata": {},
   "outputs": [],
   "source": [
    "def copy_page(url):\n",
    "    \"\"\"Copy the specified page using specified url\"\"\"\n",
    "    response=requests.get(url)\n",
    "    if response.status_code>=200 and response.status_code<=299:\n",
    "        page_content=response.text\n",
    "        doc=BeautifulSoup(page_content, \"html.parser\")\n",
    "    return doc\n",
    "        "
   ]
  },
  {
   "cell_type": "code",
   "execution_count": 358,
   "metadata": {},
   "outputs": [],
   "source": [
    "def genre_details(doc):\n",
    "    \"\"\"\n",
    "    This function is used to get the genre details.\n",
    "    \"\"\"\n",
    "    genre_tags=doc.find_all('a')\n",
    "    genre=[]\n",
    "    genre_url=[]\n",
    "    for i,link in enumerate(genre_tags):\n",
    "        href = link.get(\"href\")\n",
    "        if href and href.startswith(\"/gp/bestsellers/books/1\"):\n",
    "            genre.append(link.text.strip())\n",
    "            genre_url.append(\"https://www.amazon.in\"+href)\n",
    "    return genre,genre_url"
   ]
  },
  {
   "cell_type": "code",
   "execution_count": 359,
   "metadata": {},
   "outputs": [],
   "source": [
    "def to_csv(x,y):\n",
    "    dict={\"genres\":x,\"genres_url\":y}\n",
    "    df=pd.DataFrame(dict, index=pd.RangeIndex(start=1,stop=len(dict['genres'])+1))\n",
    "    df.to_csv('book_genre.csv')"
   ]
  },
  {
   "cell_type": "code",
   "execution_count": 361,
   "metadata": {},
   "outputs": [],
   "source": [
    "doc=copy_page(url)\n",
    "x,y=genre_details(doc)\n",
    "to_csv(x,y)"
   ]
  },
  {
   "attachments": {},
   "cell_type": "markdown",
   "metadata": {},
   "source": [
    "### using the same url to find data of best selling books and its details."
   ]
  },
  {
   "attachments": {},
   "cell_type": "markdown",
   "metadata": {},
   "source": [
    "## extracting data from webpage to find books titles"
   ]
  },
  {
   "cell_type": "code",
   "execution_count": 362,
   "metadata": {},
   "outputs": [],
   "source": [
    "def book_title(doc):\n",
    "    book_tags=doc.find_all('div', {'class':\"zg-grid-general-faceout\"})\n",
    "    book_name=[]\n",
    "    for book_tag in book_tags:\n",
    "        try:\n",
    "            book_name.append(book_tag.find('span').text.strip())\n",
    "        except:\n",
    "            book_name.append(\"none\")\n",
    "    return book_name\n",
    "\n"
   ]
  },
  {
   "cell_type": "code",
   "execution_count": 363,
   "metadata": {},
   "outputs": [
    {
     "data": {
      "text/plain": [
       "50"
      ]
     },
     "execution_count": 363,
     "metadata": {},
     "output_type": "execute_result"
    }
   ],
   "source": [
    "book_name=book_title(doc)\n",
    "len(book_name)"
   ]
  },
  {
   "attachments": {},
   "cell_type": "markdown",
   "metadata": {},
   "source": [
    "## extracting data from webpage to find author names"
   ]
  },
  {
   "cell_type": "code",
   "execution_count": 364,
   "metadata": {},
   "outputs": [],
   "source": [
    "def author_name(doc):\n",
    "    author_tags=doc.find_all('div', {'class':\"zg-grid-general-faceout\"})\n",
    "    author_name=[]\n",
    "    for tag in author_tags:\n",
    "        try:\n",
    "            author_name.append(tag.find('div', {'class':\"a-row a-size-small\"}).text.strip())\n",
    "        except:\n",
    "            author_name.append(\"None\")\n",
    "    return author_name"
   ]
  },
  {
   "cell_type": "code",
   "execution_count": 365,
   "metadata": {},
   "outputs": [
    {
     "data": {
      "text/plain": [
       "50"
      ]
     },
     "execution_count": 365,
     "metadata": {},
     "output_type": "execute_result"
    }
   ],
   "source": [
    "author=author_name(doc)\n",
    "len(author)"
   ]
  },
  {
   "attachments": {},
   "cell_type": "markdown",
   "metadata": {},
   "source": [
    "## extracting data from webpage to find stars provided by customers"
   ]
  },
  {
   "cell_type": "code",
   "execution_count": 366,
   "metadata": {},
   "outputs": [],
   "source": [
    "def stars(doc):\n",
    "    star_tags=doc.find_all('div',{'class':\"zg-grid-general-faceout\"})\n",
    "    stars=[]\n",
    "    for tag in star_tags:\n",
    "        try:\n",
    "            stars.append(tag.find('span',{'class':'a-icon-alt'}).text[:3])\n",
    "        except:\n",
    "            stars.append(\"None\")\n",
    "    return stars"
   ]
  },
  {
   "cell_type": "code",
   "execution_count": 407,
   "metadata": {},
   "outputs": [
    {
     "data": {
      "text/plain": [
       "50"
      ]
     },
     "execution_count": 407,
     "metadata": {},
     "output_type": "execute_result"
    }
   ],
   "source": [
    "star=stars(doc)\n",
    "len(star)\n"
   ]
  },
  {
   "attachments": {},
   "cell_type": "markdown",
   "metadata": {},
   "source": [
    "## extracting data from webpage to find number of reviews can be found for respective books"
   ]
  },
  {
   "cell_type": "code",
   "execution_count": 368,
   "metadata": {},
   "outputs": [],
   "source": [
    "def no_reviews(doc):\n",
    "    review_tags=doc.find_all('div',{'class':\"a-icon-row\"})\n",
    "    reviews=[]\n",
    "    for tag in review_tags:\n",
    "        try:\n",
    "            reviews.append(tag.find('span',{'class':\"a-size-small\"}).text.strip())\n",
    "        except:\n",
    "            reviews.append('None')\n",
    "    return reviews"
   ]
  },
  {
   "cell_type": "code",
   "execution_count": 406,
   "metadata": {},
   "outputs": [
    {
     "name": "stdout",
     "output_type": "stream",
     "text": [
      "49\n"
     ]
    }
   ],
   "source": [
    "reviews=no_reviews(doc)\n",
    "print(len(reviews))\n"
   ]
  },
  {
   "cell_type": "markdown",
   "metadata": {},
   "source": [
    "## extracting data from webpage to find book's editions like paperback, hardcopy, kindle...etc..."
   ]
  },
  {
   "cell_type": "code",
   "execution_count": 370,
   "metadata": {},
   "outputs": [],
   "source": [
    "def editions(doc):\n",
    "    edition_tags=doc.find_all('span',{'class':\"a-size-small a-color-secondary a-text-normal\"})\n",
    "    edition=[]\n",
    "    for tag in edition_tags:\n",
    "        try:\n",
    "            edition.append(tag.text.strip())\n",
    "        except:\n",
    "            edition.append(\"None\")\n",
    "    return edition"
   ]
  },
  {
   "cell_type": "code",
   "execution_count": 371,
   "metadata": {},
   "outputs": [
    {
     "data": {
      "text/plain": [
       "50"
      ]
     },
     "execution_count": 371,
     "metadata": {},
     "output_type": "execute_result"
    }
   ],
   "source": [
    "edition=editions(doc)\n",
    "len(edition)"
   ]
  },
  {
   "cell_type": "markdown",
   "metadata": {},
   "source": [
    "## extracting data from webpage to find book's Price"
   ]
  },
  {
   "cell_type": "code",
   "execution_count": 372,
   "metadata": {},
   "outputs": [],
   "source": [
    "def price(doc):\n",
    "    price_tags=doc.find_all('div',{\"class\": \"zg-grid-general-faceout\"})\n",
    "    prices=[]\n",
    "    for tag in price_tags:\n",
    "        try:\n",
    "            prices.append(tag.find('span',{'class':'p13n-sc-price'}).text.strip())\n",
    "        except:\n",
    "            prices.append(\"None\")\n",
    "    return prices"
   ]
  },
  {
   "cell_type": "code",
   "execution_count": 373,
   "metadata": {},
   "outputs": [
    {
     "data": {
      "text/plain": [
       "50"
      ]
     },
     "execution_count": 373,
     "metadata": {},
     "output_type": "execute_result"
    }
   ],
   "source": [
    "prices=price(doc)\n",
    "len(prices)"
   ]
  },
  {
   "attachments": {},
   "cell_type": "markdown",
   "metadata": {},
   "source": [
    "## extracting data from webpage to find book's address "
   ]
  },
  {
   "cell_type": "code",
   "execution_count": 374,
   "metadata": {},
   "outputs": [],
   "source": [
    "def book_url(doc):\n",
    "    book_tags=doc.find_all('div',{\"class\": \"zg-grid-general-faceout\"})\n",
    "    books_url=[]\n",
    "    for tag in book_tags:\n",
    "        try:\n",
    "            books_url.append(\"https://www.amazon.in/\"+tag.find('a',{'class':'a-link-normal'})['href'])\n",
    "        except:\n",
    "            books_url.append(\"None\")\n",
    "    return books_url\n"
   ]
  },
  {
   "cell_type": "code",
   "execution_count": 375,
   "metadata": {},
   "outputs": [
    {
     "data": {
      "text/plain": [
       "50"
      ]
     },
     "execution_count": 375,
     "metadata": {},
     "output_type": "execute_result"
    }
   ],
   "source": [
    "books_url=book_url(doc)\n",
    "len(books_url)"
   ]
  },
  {
   "cell_type": "code",
   "execution_count": null,
   "metadata": {},
   "outputs": [],
   "source": []
  },
  {
   "attachments": {},
   "cell_type": "markdown",
   "metadata": {},
   "source": [
    "## extracting data from just 1st page which shows top 50 bestseller books from amazon"
   ]
  },
  {
   "cell_type": "code",
   "execution_count": 386,
   "metadata": {},
   "outputs": [],
   "source": [
    "def data_scrape(url):\n",
    "    doc=copy_page(url)\n",
    "    book_name=book_title(doc)\n",
    "    author=author_name(doc)\n",
    "    star=stars(doc)\n",
    "    review=no_reviews(doc)\n",
    "    edition=editions(doc)\n",
    "    books_url=book_url(doc)\n",
    "    prices=price(doc)\n",
    "    dict={'Name':book_name,'Author':author,'Ratings (out of 5)':star,'Reviews':review,'Edition':edition,'Price':prices,'Books_url':books_url}\n",
    "    books_df=pd.DataFrame.from_dict(dict, orient='index').transpose()\n",
    "    books_df.index=pd.RangeIndex(start=1, stop=len(df)+1)   \n",
    "    books_df.to_csv(\"Bestsellers.csv\")\n",
    "    print('Extraction done and saved in Csv file')\n",
    "                                                   "
   ]
  },
  {
   "cell_type": "code",
   "execution_count": 387,
   "metadata": {},
   "outputs": [
    {
     "name": "stdout",
     "output_type": "stream",
     "text": [
      "Extraction done and saved in Csv file\n"
     ]
    }
   ],
   "source": [
    "data_scrape(url)"
   ]
  },
  {
   "cell_type": "code",
   "execution_count": 388,
   "metadata": {},
   "outputs": [],
   "source": [
    "df=pd.read_csv(\"Bestsellers.csv\")"
   ]
  },
  {
   "cell_type": "code",
   "execution_count": 389,
   "metadata": {},
   "outputs": [
    {
     "data": {
      "text/html": [
       "<div>\n",
       "<style scoped>\n",
       "    .dataframe tbody tr th:only-of-type {\n",
       "        vertical-align: middle;\n",
       "    }\n",
       "\n",
       "    .dataframe tbody tr th {\n",
       "        vertical-align: top;\n",
       "    }\n",
       "\n",
       "    .dataframe thead th {\n",
       "        text-align: right;\n",
       "    }\n",
       "</style>\n",
       "<table border=\"1\" class=\"dataframe\">\n",
       "  <thead>\n",
       "    <tr style=\"text-align: right;\">\n",
       "      <th></th>\n",
       "      <th>Unnamed: 0</th>\n",
       "      <th>Name</th>\n",
       "      <th>Author</th>\n",
       "      <th>Ratings (out of 5)</th>\n",
       "      <th>Reviews</th>\n",
       "      <th>Edition</th>\n",
       "      <th>Price</th>\n",
       "      <th>Books_url</th>\n",
       "    </tr>\n",
       "  </thead>\n",
       "  <tbody>\n",
       "    <tr>\n",
       "      <th>0</th>\n",
       "      <td>1</td>\n",
       "      <td>Atomic Habits: The life-changing million copy ...</td>\n",
       "      <td>James Clear</td>\n",
       "      <td>4.6</td>\n",
       "      <td>73,374</td>\n",
       "      <td>Paperback</td>\n",
       "      <td>₹349.00</td>\n",
       "      <td>https://www.amazon.in//Atomic-Habits-James-Cle...</td>\n",
       "    </tr>\n",
       "    <tr>\n",
       "      <th>1</th>\n",
       "      <td>2</td>\n",
       "      <td>The Psychology of Money</td>\n",
       "      <td>Morgan Housel</td>\n",
       "      <td>4.6</td>\n",
       "      <td>47,856</td>\n",
       "      <td>Paperback</td>\n",
       "      <td>₹210.00</td>\n",
       "      <td>https://www.amazon.in//Psychology-Money-Morgan...</td>\n",
       "    </tr>\n",
       "    <tr>\n",
       "      <th>2</th>\n",
       "      <td>3</td>\n",
       "      <td>NTA NEET (UG) BIOLOGY | RAKSHITA SINGH</td>\n",
       "      <td>RAKSHITA SINGH</td>\n",
       "      <td>NaN</td>\n",
       "      <td>18,570</td>\n",
       "      <td>Paperback</td>\n",
       "      <td>₹383.00</td>\n",
       "      <td>https://www.amazon.in//NTA-NEET-BIOLOGY-RAKSHI...</td>\n",
       "    </tr>\n",
       "    <tr>\n",
       "      <th>3</th>\n",
       "      <td>4</td>\n",
       "      <td>Grandma's Bag of Stories: Collection of 20+ Il...</td>\n",
       "      <td>Sudha Murty</td>\n",
       "      <td>4.6</td>\n",
       "      <td>46,829</td>\n",
       "      <td>Paperback</td>\n",
       "      <td>₹167.00</td>\n",
       "      <td>https://www.amazon.in//Grandmas-Bag-Stories-Su...</td>\n",
       "    </tr>\n",
       "    <tr>\n",
       "      <th>4</th>\n",
       "      <td>5</td>\n",
       "      <td>Ikigai: The Japanese secret to a long and happ...</td>\n",
       "      <td>Héctor García</td>\n",
       "      <td>4.6</td>\n",
       "      <td>68,280</td>\n",
       "      <td>Hardcover</td>\n",
       "      <td>₹333.00</td>\n",
       "      <td>https://www.amazon.in//Ikigai-H%C3%A9ctor-Garc...</td>\n",
       "    </tr>\n",
       "  </tbody>\n",
       "</table>\n",
       "</div>"
      ],
      "text/plain": [
       "   Unnamed: 0                                               Name   \n",
       "0           1  Atomic Habits: The life-changing million copy ...  \\\n",
       "1           2                            The Psychology of Money   \n",
       "2           3             NTA NEET (UG) BIOLOGY | RAKSHITA SINGH   \n",
       "3           4  Grandma's Bag of Stories: Collection of 20+ Il...   \n",
       "4           5  Ikigai: The Japanese secret to a long and happ...   \n",
       "\n",
       "           Author  Ratings (out of 5) Reviews    Edition    Price   \n",
       "0     James Clear                 4.6  73,374  Paperback  ₹349.00  \\\n",
       "1   Morgan Housel                 4.6  47,856  Paperback  ₹210.00   \n",
       "2  RAKSHITA SINGH                 NaN  18,570  Paperback  ₹383.00   \n",
       "3     Sudha Murty                 4.6  46,829  Paperback  ₹167.00   \n",
       "4   Héctor García                 4.6  68,280  Hardcover  ₹333.00   \n",
       "\n",
       "                                           Books_url  \n",
       "0  https://www.amazon.in//Atomic-Habits-James-Cle...  \n",
       "1  https://www.amazon.in//Psychology-Money-Morgan...  \n",
       "2  https://www.amazon.in//NTA-NEET-BIOLOGY-RAKSHI...  \n",
       "3  https://www.amazon.in//Grandmas-Bag-Stories-Su...  \n",
       "4  https://www.amazon.in//Ikigai-H%C3%A9ctor-Garc...  "
      ]
     },
     "execution_count": 389,
     "metadata": {},
     "output_type": "execute_result"
    }
   ],
   "source": [
    "df.head()"
   ]
  },
  {
   "cell_type": "code",
   "execution_count": 390,
   "metadata": {},
   "outputs": [
    {
     "data": {
      "text/plain": [
       "Index(['Unnamed: 0', 'Name', 'Author', 'Ratings (out of 5)', 'Reviews',\n",
       "       'Edition', 'Price', 'Books_url'],\n",
       "      dtype='object')"
      ]
     },
     "execution_count": 390,
     "metadata": {},
     "output_type": "execute_result"
    }
   ],
   "source": [
    "df.columns"
   ]
  },
  {
   "cell_type": "code",
   "execution_count": 391,
   "metadata": {},
   "outputs": [
    {
     "name": "stdout",
     "output_type": "stream",
     "text": [
      "<class 'pandas.core.frame.DataFrame'>\n",
      "RangeIndex: 50 entries, 0 to 49\n",
      "Data columns (total 8 columns):\n",
      " #   Column              Non-Null Count  Dtype  \n",
      "---  ------              --------------  -----  \n",
      " 0   Unnamed: 0          50 non-null     int64  \n",
      " 1   Name                50 non-null     object \n",
      " 2   Author              50 non-null     object \n",
      " 3   Ratings (out of 5)  49 non-null     float64\n",
      " 4   Reviews             49 non-null     object \n",
      " 5   Edition             50 non-null     object \n",
      " 6   Price               50 non-null     object \n",
      " 7   Books_url           50 non-null     object \n",
      "dtypes: float64(1), int64(1), object(6)\n",
      "memory usage: 3.2+ KB\n"
     ]
    }
   ],
   "source": [
    "df.info()"
   ]
  },
  {
   "attachments": {},
   "cell_type": "markdown",
   "metadata": {},
   "source": [
    "## Extract data from multiple pages and return all data together."
   ]
  },
  {
   "cell_type": "code",
   "execution_count": 395,
   "metadata": {},
   "outputs": [],
   "source": [
    "def get_all_books(n):\n",
    "    all_books={'Name':[],'Author':[],'Ratings (out of 5)':[],'Reviews':[],'Edition':[],'Price':[],'Books_url':[]}\n",
    "    for i in range(1, n+1):\n",
    "        url=f\"https://www.amazon.in/gp/bestsellers/books/ref=zg_bs_pg_{str(i)}?ie=UTF8&pg={str(i)}\"\n",
    "        doc=copy_page(url)\n",
    "        all_books['Name'] += book_title(doc)\n",
    "        all_books['Author']+=(author_name(doc))\n",
    "        all_books['Ratings (out of 5)']+=stars(doc)\n",
    "        all_books['Reviews']+=no_reviews(doc)\n",
    "        all_books['Edition']+=editions(doc)\n",
    "        all_books['Price']+=price(doc)\n",
    "        all_books['Books_url']+=book_url(doc)\n",
    "        df=pd.DataFrame.from_dict(all_books,orient='index').transpose()\n",
    "        df.index=pd.RangeIndex(start=1, stop=len(df)+1)\n",
    "        df.to_csv(\"books.csv\")\n",
    "    print(f\"data extracted from all the pages, saved in csv file format and length of the data: {len(df)} !\") "
   ]
  },
  {
   "cell_type": "code",
   "execution_count": 397,
   "metadata": {},
   "outputs": [
    {
     "name": "stdout",
     "output_type": "stream",
     "text": [
      "data extracted from all the pages, saved in csv file format and length of the data: 250 !\n"
     ]
    }
   ],
   "source": [
    "get_all_books(5)"
   ]
  },
  {
   "cell_type": "code",
   "execution_count": 404,
   "metadata": {},
   "outputs": [
    {
     "data": {
      "text/html": [
       "<div>\n",
       "<style scoped>\n",
       "    .dataframe tbody tr th:only-of-type {\n",
       "        vertical-align: middle;\n",
       "    }\n",
       "\n",
       "    .dataframe tbody tr th {\n",
       "        vertical-align: top;\n",
       "    }\n",
       "\n",
       "    .dataframe thead th {\n",
       "        text-align: right;\n",
       "    }\n",
       "</style>\n",
       "<table border=\"1\" class=\"dataframe\">\n",
       "  <thead>\n",
       "    <tr style=\"text-align: right;\">\n",
       "      <th></th>\n",
       "      <th>Name</th>\n",
       "      <th>Author</th>\n",
       "      <th>Ratings (out of 5)</th>\n",
       "      <th>Reviews</th>\n",
       "      <th>Edition</th>\n",
       "      <th>Price</th>\n",
       "      <th>Books_url</th>\n",
       "    </tr>\n",
       "  </thead>\n",
       "  <tbody>\n",
       "    <tr>\n",
       "      <th>1</th>\n",
       "      <td>Atomic Habits: The life-changing million copy ...</td>\n",
       "      <td>James Clear</td>\n",
       "      <td>4.6</td>\n",
       "      <td>73,374</td>\n",
       "      <td>Paperback</td>\n",
       "      <td>₹349.00</td>\n",
       "      <td>https://www.amazon.in//Atomic-Habits-James-Cle...</td>\n",
       "    </tr>\n",
       "    <tr>\n",
       "      <th>2</th>\n",
       "      <td>The Psychology of Money</td>\n",
       "      <td>Morgan Housel</td>\n",
       "      <td>4.6</td>\n",
       "      <td>47,856</td>\n",
       "      <td>Paperback</td>\n",
       "      <td>₹210.00</td>\n",
       "      <td>https://www.amazon.in//Psychology-Money-Morgan...</td>\n",
       "    </tr>\n",
       "    <tr>\n",
       "      <th>3</th>\n",
       "      <td>NTA NEET (UG) BIOLOGY | RAKSHITA SINGH</td>\n",
       "      <td>RAKSHITA SINGH</td>\n",
       "      <td>NaN</td>\n",
       "      <td>18,570</td>\n",
       "      <td>Paperback</td>\n",
       "      <td>₹383.00</td>\n",
       "      <td>https://www.amazon.in//NTA-NEET-BIOLOGY-RAKSHI...</td>\n",
       "    </tr>\n",
       "    <tr>\n",
       "      <th>4</th>\n",
       "      <td>Grandma's Bag of Stories: Collection of 20+ Il...</td>\n",
       "      <td>Sudha Murty</td>\n",
       "      <td>4.6</td>\n",
       "      <td>46,833</td>\n",
       "      <td>Paperback</td>\n",
       "      <td>₹167.00</td>\n",
       "      <td>https://www.amazon.in//Grandmas-Bag-Stories-Su...</td>\n",
       "    </tr>\n",
       "    <tr>\n",
       "      <th>5</th>\n",
       "      <td>Ikigai: The Japanese secret to a long and happ...</td>\n",
       "      <td>Héctor García</td>\n",
       "      <td>4.6</td>\n",
       "      <td>68,280</td>\n",
       "      <td>Hardcover</td>\n",
       "      <td>₹333.00</td>\n",
       "      <td>https://www.amazon.in//Ikigai-H%C3%A9ctor-Garc...</td>\n",
       "    </tr>\n",
       "  </tbody>\n",
       "</table>\n",
       "</div>"
      ],
      "text/plain": [
       "                                                Name          Author   \n",
       "1  Atomic Habits: The life-changing million copy ...     James Clear  \\\n",
       "2                            The Psychology of Money   Morgan Housel   \n",
       "3             NTA NEET (UG) BIOLOGY | RAKSHITA SINGH  RAKSHITA SINGH   \n",
       "4  Grandma's Bag of Stories: Collection of 20+ Il...     Sudha Murty   \n",
       "5  Ikigai: The Japanese secret to a long and happ...   Héctor García   \n",
       "\n",
       "   Ratings (out of 5) Reviews    Edition    Price   \n",
       "1                 4.6  73,374  Paperback  ₹349.00  \\\n",
       "2                 4.6  47,856  Paperback  ₹210.00   \n",
       "3                 NaN  18,570  Paperback  ₹383.00   \n",
       "4                 4.6  46,833  Paperback  ₹167.00   \n",
       "5                 4.6  68,280  Hardcover  ₹333.00   \n",
       "\n",
       "                                           Books_url  \n",
       "1  https://www.amazon.in//Atomic-Habits-James-Cle...  \n",
       "2  https://www.amazon.in//Psychology-Money-Morgan...  \n",
       "3  https://www.amazon.in//NTA-NEET-BIOLOGY-RAKSHI...  \n",
       "4  https://www.amazon.in//Grandmas-Bag-Stories-Su...  \n",
       "5  https://www.amazon.in//Ikigai-H%C3%A9ctor-Garc...  "
      ]
     },
     "execution_count": 404,
     "metadata": {},
     "output_type": "execute_result"
    }
   ],
   "source": [
    "df=pd.read_csv(\"books.csv\", index_col=0)\n",
    "df.head()"
   ]
  },
  {
   "cell_type": "code",
   "execution_count": 405,
   "metadata": {},
   "outputs": [
    {
     "name": "stdout",
     "output_type": "stream",
     "text": [
      "<class 'pandas.core.frame.DataFrame'>\n",
      "Index: 250 entries, 1 to 250\n",
      "Data columns (total 7 columns):\n",
      " #   Column              Non-Null Count  Dtype  \n",
      "---  ------              --------------  -----  \n",
      " 0   Name                250 non-null    object \n",
      " 1   Author              250 non-null    object \n",
      " 2   Ratings (out of 5)  245 non-null    float64\n",
      " 3   Reviews             245 non-null    object \n",
      " 4   Edition             250 non-null    object \n",
      " 5   Price               249 non-null    object \n",
      " 6   Books_url           250 non-null    object \n",
      "dtypes: float64(1), object(6)\n",
      "memory usage: 15.6+ KB\n"
     ]
    }
   ],
   "source": [
    "df.info()"
   ]
  },
  {
   "cell_type": "code",
   "execution_count": null,
   "metadata": {},
   "outputs": [],
   "source": []
  }
 ],
 "metadata": {
  "kernelspec": {
   "display_name": "Python 3",
   "language": "python",
   "name": "python3"
  },
  "language_info": {
   "codemirror_mode": {
    "name": "ipython",
    "version": 3
   },
   "file_extension": ".py",
   "mimetype": "text/x-python",
   "name": "python",
   "nbconvert_exporter": "python",
   "pygments_lexer": "ipython3",
   "version": "3.11.1"
  },
  "orig_nbformat": 4
 },
 "nbformat": 4,
 "nbformat_minor": 2
}
